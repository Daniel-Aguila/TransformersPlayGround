{
 "cells": [
  {
   "cell_type": "code",
   "execution_count": 21,
   "metadata": {},
   "outputs": [],
   "source": [
    "import transformers\n",
    "from transformers import pipeline"
   ]
  },
  {
   "cell_type": "code",
   "execution_count": 22,
   "metadata": {},
   "outputs": [
    {
     "name": "stdout",
     "output_type": "stream",
     "text": [
      "2.1.1\n"
     ]
    }
   ],
   "source": [
    "import torch\n",
    "print(torch.__version__)"
   ]
  },
  {
   "cell_type": "code",
   "execution_count": 23,
   "metadata": {},
   "outputs": [
    {
     "name": "stdout",
     "output_type": "stream",
     "text": [
      "2.15.0\n"
     ]
    }
   ],
   "source": [
    "import tensorflow as tf\n",
    "print(tf.__version__)"
   ]
  },
  {
   "cell_type": "code",
   "execution_count": 24,
   "metadata": {},
   "outputs": [
    {
     "name": "stderr",
     "output_type": "stream",
     "text": [
      "No model was supplied, defaulted to gpt2 and revision 6c0e608 (https://huggingface.co/gpt2).\n",
      "Using a pipeline without specifying a model name and revision in production is not recommended.\n",
      "Setting `pad_token_id` to `eos_token_id`:50256 for open-end generation.\n"
     ]
    },
    {
     "data": {
      "text/plain": [
       "[{'generated_text': 'Jake, Thomas, TJ and I are going to Canada to attend the Winter Classic and try to get a better feel for what it\\'s like, and hopefully we can find some things.\"\\n\\nGainesville will host the Montreal Canadiens in three games'}]"
      ]
     },
     "execution_count": 24,
     "metadata": {},
     "output_type": "execute_result"
    }
   ],
   "source": [
    "generator = pipeline(\"text-generation\")\n",
    "generator(\"Jake, Thomas, TJ and I are going to Canada to\")"
   ]
  },
  {
   "cell_type": "code",
   "execution_count": 25,
   "metadata": {},
   "outputs": [
    {
     "name": "stderr",
     "output_type": "stream",
     "text": [
      "No model was supplied, defaulted to gpt2 and revision 6c0e608 (https://huggingface.co/gpt2).\n",
      "Using a pipeline without specifying a model name and revision in production is not recommended.\n",
      "Setting `pad_token_id` to `eos_token_id`:50256 for open-end generation.\n"
     ]
    },
    {
     "data": {
      "text/plain": [
       "[{'generated_text': 'Jehdi went on a really good date with a guy, so \\xa0he took it in stride. \\xa0The first time we meet \\xa0it was just a kiss and my body immediately pulled out \\xa0from beneath me, so I'}]"
      ]
     },
     "execution_count": 25,
     "metadata": {},
     "output_type": "execute_result"
    }
   ],
   "source": [
    "generator = pipeline(\"text-generation\")\n",
    "generator(\"Jehdi went on a really good date with a guy, so \")"
   ]
  },
  {
   "cell_type": "code",
   "execution_count": 26,
   "metadata": {},
   "outputs": [
    {
     "name": "stderr",
     "output_type": "stream",
     "text": [
      "Setting `pad_token_id` to `eos_token_id`:50256 for open-end generation.\n"
     ]
    },
    {
     "data": {
      "text/plain": [
       "[{'generated_text': \"My dog started talking to me, when I was about 2 months old. She was very upset about my parents and was very upset about my dog and my grandmother's behavior and my grandmother's behavior and my great-grand-daughter's temper. I\"},\n",
       " {'generated_text': 'My dog started talking to me, when I got out the door with my mom, she was very shy and very shy, so I decided that my mom and dad were the nicest to kiss and kiss while I was a puppy. I mean,'}]"
      ]
     },
     "execution_count": 26,
     "metadata": {},
     "output_type": "execute_result"
    }
   ],
   "source": [
    "generator = pipeline(\"text-generation\",model=\"distilgpt2\")\n",
    "generator(\"My dog started talking to me, when\", max_length=50,num_return_sequences=2)"
   ]
  },
  {
   "cell_type": "code",
   "execution_count": 27,
   "metadata": {},
   "outputs": [
    {
     "name": "stderr",
     "output_type": "stream",
     "text": [
      "No model was supplied, defaulted to facebook/bart-large-mnli and revision c626438 (https://huggingface.co/facebook/bart-large-mnli).\n",
      "Using a pipeline without specifying a model name and revision in production is not recommended.\n",
      "(…)bart-large-mnli/resolve/main/config.json: 100%|██████████| 1.15k/1.15k [00:00<00:00, 3.13MB/s]\n",
      "model.safetensors: 100%|██████████| 1.63G/1.63G [01:57<00:00, 13.9MB/s]\n",
      "(…)-mnli/resolve/main/tokenizer_config.json: 100%|██████████| 26.0/26.0 [00:00<00:00, 220kB/s]\n",
      "(…)/bart-large-mnli/resolve/main/vocab.json: 100%|██████████| 899k/899k [00:00<00:00, 1.16MB/s]\n",
      "(…)/bart-large-mnli/resolve/main/merges.txt: 100%|██████████| 456k/456k [00:00<00:00, 10.5MB/s]\n",
      "(…)t-large-mnli/resolve/main/tokenizer.json: 100%|██████████| 1.36M/1.36M [00:00<00:00, 1.60MB/s]\n"
     ]
    },
    {
     "data": {
      "text/plain": [
       "{'sequence': 'Playing Apex Legends is fun but gives me great anxiety, League of Legends is better',\n",
       " 'labels': ['video game', 'business', 'disaster'],\n",
       " 'scores': [0.9857428669929504, 0.009487814269959927, 0.0047692544758319855]}"
      ]
     },
     "execution_count": 27,
     "metadata": {},
     "output_type": "execute_result"
    }
   ],
   "source": [
    "classifier = pipeline(\"zero-shot-classification\")\n",
    "classifier(\n",
    "    \"Playing Apex Legends is fun but gives me great anxiety, League of Legends is better\",\n",
    "    candidate_labels=[\"video game\", \"disaster\", \"business\"],\n",
    ")"
   ]
  }
 ],
 "metadata": {
  "interpreter": {
   "hash": "b0fa6594d8f4cbf19f97940f81e996739fb7646882a419484c72d19e05852a7e"
  },
  "kernelspec": {
   "display_name": "Python 3.11.4 64-bit",
   "language": "python",
   "name": "python3"
  },
  "language_info": {
   "codemirror_mode": {
    "name": "ipython",
    "version": 3
   },
   "file_extension": ".py",
   "mimetype": "text/x-python",
   "name": "python",
   "nbconvert_exporter": "python",
   "pygments_lexer": "ipython3",
   "version": "3.11.4"
  },
  "orig_nbformat": 4
 },
 "nbformat": 4,
 "nbformat_minor": 2
}
